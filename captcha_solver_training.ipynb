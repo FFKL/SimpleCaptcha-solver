{
 "cells": [
  {
   "cell_type": "markdown",
   "id": "a804ab89",
   "metadata": {},
   "source": [
    "# Captcha Recognition Model Training\n",
    "\n",
    "This notebook demonstrates how to build and train a multi-output Convolutional Neural Network (CNN) for solving captchas. Each captcha is a 5-character alphanumeric string, and the images (stored in `/captchas`) are paired with their labels in `captchas.csv` (which has columns `uniq_id` and `captcha_answer`)."
   ]
  },
  {
   "cell_type": "code",
   "execution_count": null,
   "id": "ac3b0d06",
   "metadata": {},
   "outputs": [],
   "source": [
    "import os\n",
    "import numpy as np\n",
    "import pandas as pd\n",
    "import cv2\n",
    "\n",
    "from tensorflow.keras.callbacks import EarlyStopping\n",
    "from tensorflow.keras.utils import Sequence\n",
    "from tensorflow.keras.layers import Input, Conv2D, MaxPooling2D, Flatten, Dense, Dropout\n",
    "from tensorflow.keras.models import Model\n",
    "from tensorflow.keras.optimizers import Adam\n",
    "from tensorflow.keras.models import load_model\n",
    "\n",
    "from sklearn.model_selection import train_test_split"
   ]
  },
  {
   "cell_type": "markdown",
   "id": "73cc3f66",
   "metadata": {},
   "source": [
    "## Helper Function: Mapping Characters to Indices\n",
    "\n",
    "The captcha characters are digits (`0-9`) and lowercase letters (`a-z`), giving 36 classes. This helper function maps a given character to its corresponding index."
   ]
  },
  {
   "cell_type": "code",
   "execution_count": null,
   "id": "e425a7d1",
   "metadata": {},
   "outputs": [],
   "source": [
    "def char_to_index(char):\n",
    "    \"\"\"\n",
    "    Maps a character to an index:\n",
    "    - Digits 0-9 map to indices 0-9\n",
    "    - Letters a-z map to indices 10-35\n",
    "    \"\"\"\n",
    "    if char.isdigit():\n",
    "        return ord(char) - ord(\"0\")\n",
    "    else:\n",
    "        return 10 + ord(char.upper()) - ord(\"a\")\n",
    "\n",
    "\n",
    "IMG_HEIGHT, IMG_WIDTH = 50, 250\n",
    "NUM_CLASSES = 36  # 10 digits + 26 letters"
   ]
  },
  {
   "cell_type": "markdown",
   "id": "4f68ebc5",
   "metadata": {},
   "source": [
    "## Captcha Data Generator\n",
    "\n",
    "A custom Keras data generator is implemented by subclassing `Sequence` to dynamically load and preprocess images along with their corresponding labels. Each image undergoes normalization and resizing, while the associated label, a five-character string, is transformed into five one-hot encoded vectors, with each vector representing an individual character.\n"
   ]
  },
  {
   "cell_type": "code",
   "execution_count": null,
   "id": "4a511cbb",
   "metadata": {},
   "outputs": [],
   "source": [
    "class CaptchaDataGenerator(Sequence):\n",
    "    def __init__(self, df, batch_size, img_dir, img_height, img_width, num_classes, shuffle=True):\n",
    "        self.df = df.reset_index(drop=True)\n",
    "        self.batch_size = batch_size\n",
    "        self.img_dir = img_dir\n",
    "        self.img_height = img_height\n",
    "        self.img_width = img_width\n",
    "        self.num_classes = num_classes\n",
    "        self.shuffle = shuffle\n",
    "        self.indices = np.arange(len(df))\n",
    "        self.on_epoch_end()\n",
    "\n",
    "    def __len__(self):\n",
    "        return int(np.ceil(len(self.df) / self.batch_size))\n",
    "\n",
    "    def on_epoch_end(self):\n",
    "        if self.shuffle:\n",
    "            np.random.shuffle(self.indices)\n",
    "\n",
    "    def __getitem__(self, index):\n",
    "        batch_indices = self.indices[index * self.batch_size : (index + 1) * self.batch_size]\n",
    "        batch_data = self.df.iloc[batch_indices]\n",
    "\n",
    "        # Initialize an array for images (3 channels assumed)\n",
    "        X = np.zeros((len(batch_data), self.img_height, self.img_width, 3), dtype=np.float32)\n",
    "\n",
    "        # Create 5 outputs, one for each character in the captcha\n",
    "        Y = [np.zeros((len(batch_data), self.num_classes), dtype=np.float32) for _ in range(5)]\n",
    "\n",
    "        for i, (_, row) in enumerate(batch_data.iterrows()):\n",
    "            uniq_id = row[\"uniq_id\"]\n",
    "            answer = row[\"captcha_answer\"]\n",
    "            img_path = os.path.join(self.img_dir, f\"{uniq_id}.png\")\n",
    "            img = cv2.imread(img_path)\n",
    "            if img is None:\n",
    "                raise ValueError(f\"Image not found: {img_path}\")\n",
    "            img = cv2.resize(img, (self.img_width, self.img_height))\n",
    "            img = img.astype(np.float32) / 255.0  # normalize\n",
    "            X[i] = img\n",
    "\n",
    "            # Convert each character into a one-hot vector\n",
    "            for j, char in enumerate(answer):\n",
    "                idx = char_to_index(char)\n",
    "                Y[j][i, idx] = 1.0\n",
    "\n",
    "        return X, Y"
   ]
  },
  {
   "cell_type": "markdown",
   "id": "9e3acbb1",
   "metadata": {},
   "source": [
    "## Build the Multi-Output CNN Model\n",
    "\n",
    "A convolutional neural network (CNN) is constructed with a shared convolutional backbone. The architecture then diverges into five fully connected layers, each corresponding to a single character in the captcha. Each of these layers utilizes a softmax activation function to predict one character from a set of 36 possible classes.\n"
   ]
  },
  {
   "cell_type": "code",
   "execution_count": null,
   "id": "f1f8b90a",
   "metadata": {},
   "outputs": [],
   "source": [
    "def build_model(img_height, img_width, num_classes):\n",
    "    input_img = Input(shape=(img_height, img_width, 3))\n",
    "\n",
    "    # Shared convolutional layers\n",
    "    x = Conv2D(32, (3, 3), activation=\"relu\", padding=\"same\")(input_img)\n",
    "    x = MaxPooling2D(pool_size=(2, 2))(x)\n",
    "    x = Conv2D(64, (3, 3), activation=\"relu\", padding=\"same\")(x)\n",
    "    x = MaxPooling2D(pool_size=(2, 2))(x)\n",
    "    x = Conv2D(128, (3, 3), activation=\"relu\", padding=\"same\")(x)\n",
    "    x = MaxPooling2D(pool_size=(2, 2))(x)\n",
    "    x = Flatten()(x)\n",
    "    x = Dropout(0.5)(x)\n",
    "\n",
    "    # Create 5 separate branches (one per character)\n",
    "    outputs = []\n",
    "    for i in range(5):\n",
    "        fc = Dense(128, activation=\"relu\")(x)\n",
    "        out = Dense(num_classes, activation=\"softmax\", name=f\"char_{i+1}\")(fc)\n",
    "        outputs.append(out)\n",
    "\n",
    "    model = Model(inputs=input_img, outputs=outputs)\n",
    "    return model\n",
    "\n",
    "\n",
    "model = build_model(IMG_HEIGHT, IMG_WIDTH, NUM_CLASSES)\n",
    "model.compile(optimizer=Adam(), loss=\"categorical_crossentropy\", metrics=[\"accuracy\"])\n",
    "model.summary()"
   ]
  },
  {
   "cell_type": "markdown",
   "id": "0a793009",
   "metadata": {},
   "source": [
    "## Load Pre-Trained Model"
   ]
  },
  {
   "cell_type": "code",
   "execution_count": null,
   "id": "f267f44a",
   "metadata": {},
   "outputs": [],
   "source": [
    "MODEL_PATH = \"captcha_model.keras\"\n",
    "model = load_model(MODEL_PATH)\n",
    "\n",
    "print(\"Model loaded successfully from\", MODEL_PATH)"
   ]
  },
  {
   "cell_type": "markdown",
   "id": "e91cc9d7",
   "metadata": {},
   "source": [
    "## Load Data and Train the Model\n",
    "\n",
    "The CSV file `captchas.csv` is loaded, after which the data is split into training and validation sets. Data generators are then created for each set, and the model is subsequently trained.\n"
   ]
  },
  {
   "cell_type": "code",
   "execution_count": null,
   "id": "110e0b17",
   "metadata": {},
   "outputs": [],
   "source": [
    "df = pd.read_csv(\"./captchas.csv\")\n",
    "\n",
    "train_df, val_df = train_test_split(df, test_size=0.2, random_state=42)\n",
    "\n",
    "train_gen = CaptchaDataGenerator(\n",
    "    train_df,\n",
    "    batch_size=32,\n",
    "    img_dir=\"./captchas\",\n",
    "    img_height=IMG_HEIGHT,\n",
    "    img_width=IMG_WIDTH,\n",
    "    num_classes=NUM_CLASSES,\n",
    "    shuffle=True,\n",
    ")\n",
    "val_gen = CaptchaDataGenerator(\n",
    "    val_df,\n",
    "    batch_size=32,\n",
    "    img_dir=\"./captchas\",\n",
    "    img_height=IMG_HEIGHT,\n",
    "    img_width=IMG_WIDTH,\n",
    "    num_classes=NUM_CLASSES,\n",
    "    shuffle=False,\n",
    ")\n",
    "\n",
    "early_stopping = EarlyStopping(monitor=\"val_loss\", min_delta=0.001, patience=5, verbose=1)\n",
    "\n",
    "history = model.fit(train_gen, validation_data=val_gen, epochs=10, callbacks=[early_stopping])"
   ]
  },
  {
   "cell_type": "markdown",
   "id": "5e72326a",
   "metadata": {},
   "source": [
    "## Visualizing Training History\n",
    "\n",
    "The following code visualizes the overall loss, aggregated across all outputs, along with the accuracy curves for each of the five output branches, corresponding to individual captcha characters.\n"
   ]
  },
  {
   "cell_type": "code",
   "execution_count": null,
   "id": "700ebf76",
   "metadata": {},
   "outputs": [],
   "source": [
    "import matplotlib.pyplot as plt\n",
    "\n",
    "# --------------------------\n",
    "# Plot Overall Loss\n",
    "# --------------------------\n",
    "plt.figure(figsize=(10, 5))\n",
    "plt.plot(history.history[\"loss\"], label=\"Training Loss\")\n",
    "plt.plot(history.history[\"val_loss\"], label=\"Validation Loss\")\n",
    "plt.xlabel(\"Epochs\")\n",
    "plt.ylabel(\"Loss\")\n",
    "plt.title(\"Overall Training and Validation Loss\")\n",
    "plt.legend()\n",
    "plt.grid(True)\n",
    "plt.show()\n",
    "\n",
    "# --------------------------\n",
    "# Plot Accuracy for Each Output Branch\n",
    "# --------------------------\n",
    "for i in range(5):\n",
    "    train_key = f\"char_{i+1}_accuracy\"\n",
    "    val_key = f\"val_char_{i+1}_accuracy\"\n",
    "\n",
    "    plt.figure(figsize=(10, 5))\n",
    "    plt.plot(history.history[train_key], label=f\"Training Accuracy - Char {i+1}\")\n",
    "    plt.plot(history.history[val_key], label=f\"Validation Accuracy - Char {i+1}\")\n",
    "    plt.xlabel(\"Epochs\")\n",
    "    plt.ylabel(\"Accuracy\")\n",
    "    plt.title(f\"Accuracy for Captcha Character {i+1}\")\n",
    "    plt.legend()\n",
    "    plt.grid(True)\n",
    "    plt.show()"
   ]
  },
  {
   "cell_type": "markdown",
   "id": "d8ef7d75",
   "metadata": {},
   "source": [
    "## Saving the Model\n"
   ]
  },
  {
   "cell_type": "code",
   "execution_count": null,
   "id": "1be4329b",
   "metadata": {},
   "outputs": [],
   "source": [
    "model.save(\"./captcha_model.keras\")\n",
    "print(\"Model saved successfully to 'captcha_model.keras'!\")"
   ]
  }
 ],
 "metadata": {
  "kernelspec": {
   "display_name": "Python 3",
   "language": "python",
   "name": "python3"
  },
  "language_info": {
   "codemirror_mode": {
    "name": "ipython",
    "version": 3
   },
   "file_extension": ".py",
   "mimetype": "text/x-python",
   "name": "python",
   "nbconvert_exporter": "python",
   "pygments_lexer": "ipython3",
   "version": "3.10.12"
  }
 },
 "nbformat": 4,
 "nbformat_minor": 5
}
